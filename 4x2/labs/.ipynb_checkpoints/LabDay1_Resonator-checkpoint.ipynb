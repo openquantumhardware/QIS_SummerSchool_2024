{
 "cells": [
  {
   "cell_type": "markdown",
   "metadata": {},
   "source": [
    "# Welcome to the QICK lab day 1 at the 2024 QIS Summer School!\n",
    "\n",
    "### Day 1 agenda:\n",
    "* Introducing our teaching team and welcoming you to the labs (~30 minutes)\n",
    "* QubitControl notebook (\"Show and Tell\" style) (~45 min)\n",
    "* Resonator notebook (More hands on work for you) (~45 min)\n",
    "\n",
    "### Day 2 agenda:\n",
    "* Discussion of superconducting qubit control pulse sequences (especially how to measure qubit T1) (~30 minutes)\n",
    "* QubitReadout notebook (More hands on work for you) (~90 min)\n",
    "\n",
    "```diff\n",
    "+ Throughout both lab days, we will be asking you questions in green font! Please answer them in a new cell below the question.\n",
    "```"
   ]
  },
  {
   "cell_type": "markdown",
   "metadata": {},
   "source": [
    "# RF superconducting resonators 101\n",
    "\n",
    "This example shows a basic demonstration of reading out the transmission data from emulated superconducting resonators and fitting that data.\n",
    "\n",
    "Then we move on to showing how the resonator can jump from one frequency to the other, emulating a qubit undergoing energy relaxation (T1 decay)."
   ]
  },
  {
   "cell_type": "code",
   "execution_count": null,
   "metadata": {},
   "outputs": [],
   "source": [
    "# pip install seaborn"
   ]
  },
  {
   "cell_type": "code",
   "execution_count": null,
   "metadata": {},
   "outputs": [],
   "source": [
    "import sys\n",
    "# sys.path.append('../qick/qick_lib/')\n",
    "sys.path.append('../soft/')\n",
    "sys.path.append('../firmware/')\n",
    "\n",
    "from hist_analysis import *\n",
    "from qick import *\n",
    "from qick_training import *\n",
    "\n",
    "from qick.averager_program import QickSweep\n",
    "from qick.averager_program import QickRegister\n",
    "from qick.averager_program import merge_sweeps\n",
    "\n",
    "from numpy.fft import fft, fftshift\n",
    "from random import *\n",
    "import seaborn as sns\n",
    "from scipy.optimize import curve_fit\n",
    "from scipy.stats import cauchy\n",
    "\n",
    "# jupyter setup boilerplate\n",
    "%matplotlib inline\n",
    "import matplotlib.pyplot as plt\n",
    "import numpy as np\n",
    "from tqdm.auto import tqdm\n",
    "\n",
    "# for now, all the tProc v2 classes need to be individually imported (can't use qick.*)\n",
    "# the main program class\n",
    "from qick.asm_v2 import AveragerProgramV2\n",
    "# for defining sweeps\n",
    "from qick.asm_v2 import QickSweep1D"
   ]
  },
  {
   "cell_type": "code",
   "execution_count": null,
   "metadata": {},
   "outputs": [],
   "source": [
    "from qick_training import *\n",
    "\n",
    "soc = QickTrainingSoc(bitfile=\"../fw/2024-07-19_4x2_tprocv2r20_kidsim/qick_4x2.bit\")\n",
    "\n",
    "soccfg = soc\n",
    "print(soccfg)"
   ]
  },
  {
   "cell_type": "code",
   "execution_count": null,
   "metadata": {},
   "outputs": [],
   "source": [
    "GEN_CH = 0\n",
    "RO_CH = 0"
   ]
  },
  {
   "cell_type": "markdown",
   "metadata": {},
   "source": [
    "# RF superconducting resonator 101"
   ]
  },
  {
   "cell_type": "markdown",
   "metadata": {},
   "source": [
    "# Why are superconducting resonators important?\n",
    "\n",
    "* 1. You can use them to read out superconducting qubits in a way that does not destroy the quantum state of the qubit (quantum nondemolition readout), like we talked about in this morning's lecture. \n",
    "    * Our reference from lecture: https://arxiv.org/abs/2106.06173 \n",
    "    \n",
    "* 2. You can also do things the other way around, and use a superconducting qubit to read out the resonator, and store the quantum information in the resonator instead. \n",
    "    * This is used to search for axion dark matter, which is a useful practical application of today's noisy superconducting qubits: https://arxiv.org/abs/2008.12231\n",
    "    \n",
    "* 3. You can fabricate high-quality-factor resonators to learn about how to fabricate low-loss superconducting films and therefore you can learn how to make better films for your qubits (which are more complicated to fabricate).\n",
    "    * There are many papers about this, for example https://arxiv.org/pdf/2211.16437 "
   ]
  },
  {
   "cell_type": "markdown",
   "metadata": {},
   "source": [
    "```diff\n",
    "+ Q: Take a few minutes to review the concept of dispersive readout with your group/TA.\n",
    "```\n",
    "See Figure 3 of https://arxiv.org/pdf/2106.06173 which we talked about in the morning's lecture."
   ]
  },
  {
   "cell_type": "markdown",
   "metadata": {},
   "source": [
    "# Set up your resonator\n",
    "\n",
    "This resonator's frequency is 500 MHz. The resonator has a certain quality factor, which you will extract by fitting it in a cell below.\n",
    "\n",
    "### Note: this is not a real resonator, so there’s some slight differences. A resonator represented as a transfer function can made with a pole and a zero of a complex function (the coefficients c0 and c1 are the location of the zero and the pole.)\n",
    "\n",
    "* Here's a reference about this, but this is outside the scope of our lab: https://brianmcfee.net/dstbook-site/content/ch12-ztransform/PoleZero.html "
   ]
  },
  {
   "cell_type": "markdown",
   "metadata": {},
   "source": [
    "```\n",
    "Help on method config_resonator in module qick_training:\n",
    "\n",
    "config_resonator(simu_ch=0, q_adc=6, q_dac=0, f=500.0, df=2.0, dt=10.0, c0=0.99, c1=0.8, verbose=False) method of qick_training.QickTrainingSoc instance\n",
    "    Configure the resonator simulator.\n",
    "    \n",
    "    The two qout values truncate the data at different points in the simulator.\n",
    "    They affect both the simulator gain and its dynamic range.\n",
    "    Smaller values mean more gain, but you might saturate something and your decimated traces will look like garbage.\n",
    "    The default values were chosen to avoid saturation at max pulse power (i.e. a gain-1 const pulse).\n",
    "    \n",
    "    Parameters\n",
    "    ----------\n",
    "    simu_ch : int\n",
    "        index of the simulator you want to configure\n",
    "    q_adc : int\n",
    "        number of bits to truncate at simulator input\n",
    "        this basically sets the input's dynamic range\n",
    "    q_dac : int\n",
    "        number of bits to truncate at simulator output\n",
    "        this basically sets the output power\n",
    "    f : float\n",
    "        resting frequency of the resonator, in MHz\n",
    "    df : float\n",
    "        size of the frequency jump, in MHz\n",
    "        after the jump, the resonator freq will be f-df\n",
    "    dt : float\n",
    "        jump duration, in us\n",
    "        the resonator will jump back to its rest state after this time\n",
    "    c0 : float\n",
    "        resonator parameter, in the range 0.0 - 1.0\n",
    "        roughly speaking, this sets the width scale of the resonator\n",
    "    c1 : float\n",
    "        resonator parameter, in the range 0.0 - c0\n",
    "        roughly speaking, this sets the depth of the resonator minimum\n",
    "```"
   ]
  },
  {
   "cell_type": "markdown",
   "metadata": {},
   "source": [
    "```diff\n",
    "+ Q: Take a few minutes to review the above parameters of your resonator that you will configure.\n",
    "```"
   ]
  },
  {
   "cell_type": "code",
   "execution_count": null,
   "metadata": {},
   "outputs": [],
   "source": [
    "soc.config_resonator(c0=0.85, c1=0.8, verbose=True)"
   ]
  },
  {
   "cell_type": "code",
   "execution_count": null,
   "metadata": {},
   "outputs": [],
   "source": [
    "class FreqSweepProgram(AveragerProgramV2):\n",
    "    def initialize(self, cfg):\n",
    "        ro_ch = cfg['ro_ch']\n",
    "        gen_ch = cfg['gen_ch']\n",
    "        \n",
    "        self.declare_gen(ch=gen_ch, nqz=cfg['nqz'])\n",
    "        self.declare_readout(ch=ro_ch, length=cfg['ro_len'])\n",
    "\n",
    "        self.add_loop(\"myloop\", self.cfg[\"steps\"])\n",
    "        self.add_readoutconfig(ch=ro_ch, name=\"myro\", freq=cfg['freq'], gen_ch=gen_ch)\n",
    "\n",
    "        self.add_pulse(ch=gen_ch, name=\"mypulse\", ro_ch=ro_ch, \n",
    "#                        style=\"flat_top\", \n",
    "                       style=\"const\", \n",
    "#                        envelope=\"ramp\",\n",
    "                       freq=cfg['freq'], \n",
    "                       length=cfg['flat_len'],\n",
    "                       phase=cfg['phase'],\n",
    "                       gain=cfg['gain'], \n",
    "                      )\n",
    "#         self.trigger(pins=list(range(8,16)),t=0)\n",
    "        \n",
    "    def body(self, cfg):\n",
    "        # if you delay the config by too long, you can see the readout get reconfigured in the middle of your pulse\n",
    "        self.send_readoutconfig(ch=cfg['ro_ch'], name=\"myro\", t=0)\n",
    "        self.pulse(ch=cfg['gen_ch'], name=\"mypulse\", t=0)\n",
    "        self.trigger(ros=[cfg['ro_ch']], pins=[0], t=cfg['trig_time'])\n"
   ]
  },
  {
   "cell_type": "markdown",
   "metadata": {},
   "source": [
    "# Resonator spectroscopy\n",
    "\n",
    "By measuring the complex S_21 of the resonator around its resonant frequency, we can find its resonance and then fit it to find its quality factor. Let's measure this S_21 of our resonator."
   ]
  },
  {
   "cell_type": "markdown",
   "metadata": {},
   "source": [
    "But first, we will measure the cable delay across the resonance, so we can calibrate it away:\n",
    "\n",
    "We can estimate the amount of cable delay we'd expect, for example, 100m of coaxial cable will provide a delay of about:\n",
    "\n",
    " $\\Delta t = (100 m)/(80\\% * 3*10^8 m/s) = 0.4 \\mu s$\n",
    " \n",
    "if we assume that the propagation in the cable is 80% the speed of light.\n",
    "\n",
    "* If the input signal has a frequency of 250kHz, its period is 4µs. Therefore, a delay of 0.4µs causes a phase shift of 1/10 of a period, or 360 degrees /10 = 36 degrees. \n",
    "* But if the signal frequency is 500kHz, its period is 2µs, and now a 0.4µs delay causes a phase shift of 1/5 of a period, or 360 degrees /5 = 72 degrees.\n",
    "\n",
    "See this article for more details about this example: https://circuitcellar.com/research-design-hub/group-delay-basics-more-filter-fun/"
   ]
  },
  {
   "cell_type": "code",
   "execution_count": null,
   "metadata": {},
   "outputs": [],
   "source": [
    "START_FREQ = 495\n",
    "CAL_RANGE = 0.1\n",
    "END_FREQ = 505\n",
    "\n",
    "\n",
    "# do a sweep with 5 points and plot decimated\n",
    "config = {'steps': 5,\n",
    "          'gen_ch': GEN_CH,\n",
    "          'ro_ch': RO_CH,\n",
    "          'freq': QickSweep1D(\"myloop\", START_FREQ, START_FREQ+CAL_RANGE),\n",
    "          'nqz': 1,\n",
    "          'trig_time': 3.0,\n",
    "          'ro_len': 7,\n",
    "          'flat_len': 5.0,\n",
    "          'phase': 0,\n",
    "          'gain': 1.0,\n",
    "         }"
   ]
  },
  {
   "cell_type": "code",
   "execution_count": null,
   "metadata": {},
   "outputs": [],
   "source": [
    "# config['steps']=100001\n",
    "config['steps']=1001\n",
    "\n",
    "prog = FreqSweepProgram(soccfg, reps=10, final_delay=1.0, cfg=config)\n",
    "freqs = prog.get_pulse_param('myro', 'freq', as_array=True)\n",
    "iq_list = prog.acquire(soc, soft_avgs=1, progress=True)\n",
    "# plt.plot(np.angle(iq_list[0][0].dot([1,1j]), deg=True))\n",
    "\n",
    "# plt.plot(iq_list[0][0,:,0], iq_list[0][0,:,1], '.')\n",
    "# plt.ylabel(\"Q [ADU]\")\n",
    "# plt.xlabel(\"I [ADU]\");\n",
    "\n",
    "iq_complex = iq_list[0][0].dot([1,1j])\n",
    "phases = np.unwrap(np.angle(iq_complex))/(2*np.pi)\n",
    "\n",
    "plt.plot(freqs, phases)\n",
    "plt.ylabel(\"Phase [cycles]\")\n",
    "plt.xlabel(\"Frequency [MHz]\")\n",
    "\n",
    "print(\"phase step (cycles):\", phases[1]-phases[0])\n",
    "\n",
    "a = np.vstack([freqs, np.ones_like(freqs)]).T\n",
    "phase_delay = np.linalg.lstsq(a, phases, rcond=None)[0][0]\n",
    "print(\"relative delay %.4f us\"%(phase_delay))"
   ]
  },
  {
   "cell_type": "markdown",
   "metadata": {},
   "source": [
    "```diff\n",
    "+ Q: Why does cable delay cause an overall slope to the phase?\n",
    "```"
   ]
  },
  {
   "cell_type": "markdown",
   "metadata": {},
   "source": [
    "Now we sweep the frequency about the resonance of our resonator."
   ]
  },
  {
   "cell_type": "code",
   "execution_count": null,
   "metadata": {},
   "outputs": [],
   "source": [
    "config['freq'] = QickSweep1D(\"myloop\", START_FREQ, END_FREQ)\n",
    "\n",
    "config['steps'] = 10001\n",
    "\n",
    "prog = FreqSweepProgram(soccfg, reps=10, final_delay=10.0, cfg=config)\n",
    "freqs = prog.get_pulse_param('myro', 'freq', as_array=True)\n",
    "iq_list = prog.acquire(soc, soft_avgs=1, progress=True)\n",
    "iq_complex = iq_list[0][0].dot([1,1j])"
   ]
  },
  {
   "cell_type": "markdown",
   "metadata": {},
   "source": [
    "Now we rotate the IQ data to calibrate away the cable delay across the resonance, and plot the signal I and Q."
   ]
  },
  {
   "cell_type": "code",
   "execution_count": null,
   "metadata": {},
   "outputs": [],
   "source": [
    "iq_rotated = iq_complex*np.exp(-1j*freqs*2*np.pi*phase_delay)\n",
    "\n",
    "plt.plot(np.real(iq_rotated), np.imag(iq_rotated))\n",
    "plt.ylabel(\"Q [ADU]\")\n",
    "plt.xlabel(\"I [ADU]\");"
   ]
  },
  {
   "cell_type": "markdown",
   "metadata": {},
   "source": [
    "```diff\n",
    "+ Q: Why does a resonance look like a circle? \n",
    "```\n",
    "\n",
    "For more information, see: https://arxiv.org/pdf/1410.3365"
   ]
  },
  {
   "cell_type": "code",
   "execution_count": null,
   "metadata": {},
   "outputs": [],
   "source": [
    "### Solution:"
   ]
  },
  {
   "cell_type": "markdown",
   "metadata": {},
   "source": [
    "Finally we plot the signal amplitude and phase."
   ]
  },
  {
   "cell_type": "code",
   "execution_count": null,
   "metadata": {},
   "outputs": [],
   "source": [
    "# phases_corrected = np.unwrap(np.angle(iq_rotated))/(2*np.pi)\n",
    "phases_corrected = np.angle(iq_rotated)/(2*np.pi)\n",
    "\n",
    "fig, plot = plt.subplots()\n",
    "plot.semilogy(freqs, np.abs(iq_rotated), label=\"amplitude\")\n",
    "ax2 = plot.twinx()  # instantiate a second axes that shares the same x-axis\n",
    "ax2.plot(freqs, phases_corrected, color='red', label='phase')\n",
    "plot.set_ylabel(\"amplitude [ADU]\")\n",
    "plot.set_xlabel(\"frequency [MHz]\")\n",
    "ax2.set_ylabel(\"phase [cycles]\");\n",
    "plot.legend()"
   ]
  },
  {
   "cell_type": "markdown",
   "metadata": {},
   "source": [
    "```diff\n",
    "+ Q: Why is there a phase discontinuity of the signal at its resonance? What physics-wise is happening here?\n",
    "```"
   ]
  },
  {
   "cell_type": "code",
   "execution_count": null,
   "metadata": {},
   "outputs": [],
   "source": [
    "### Solution:"
   ]
  },
  {
   "cell_type": "markdown",
   "metadata": {},
   "source": [
    "Now we plot the amplitude in units of decibels (dB) as this is the S21 transmission signal that we want to fit."
   ]
  },
  {
   "cell_type": "code",
   "execution_count": null,
   "metadata": {
    "scrolled": true
   },
   "outputs": [],
   "source": [
    "S21_r1 = np.real(20*np.log10(iq_rotated/np.max(np.abs(iq_rotated))))\n",
    "\n",
    "#############\n",
    "### Plots ###\n",
    "#############\n",
    "plt.plot(freqs,S21_r1,color='orange')\n",
    "plt.xlabel('f [MHz]')\n",
    "plt.ylabel('S21 [dB]');"
   ]
  },
  {
   "cell_type": "code",
   "execution_count": null,
   "metadata": {},
   "outputs": [],
   "source": [
    "# ## Save data (optional)\n",
    "# import pickle\n",
    "# saveDict = {'freqs': freqs, 'S21': S21, 'xi_v': xi_v, 'xq_v': xq_v}\n",
    "\n",
    "# with open('resData_iq.pkl', 'wb') as handle:\n",
    "#     pickle.dump(saveDict, handle, protocol=pickle.HIGHEST_PROTOCOL)"
   ]
  },
  {
   "cell_type": "markdown",
   "metadata": {},
   "source": [
    "### Let's fit this resonator and extract its quality factor. \n",
    "\n",
    "Q = f/kappa, where kappa is the linewidth of the resonator-- its full width at half maximum."
   ]
  },
  {
   "cell_type": "markdown",
   "metadata": {},
   "source": [
    "```diff\n",
    "+ 1. Find the full width, half maximum (kappa) of the resonator, analytically. Then determine the quality factor of the resonator.\n",
    "```"
   ]
  },
  {
   "cell_type": "code",
   "execution_count": null,
   "metadata": {},
   "outputs": [],
   "source": [
    "def lorentzian(f, gamma, f0, A):\n",
    "    return A * (gamma/2) * (1/(1 + np.power((f-f0)/(gamma/2),2.)))\n",
    "\n",
    "def FWHM_analytic(f, S21):\n",
    "    # Find the minimum value and its index\n",
    "    min_idx = np.argmin(S21)\n",
    "    f_min = f[min_idx]\n",
    "    S_min = S21[min_idx]\n",
    "    # Calculate the half-maximum point\n",
    "    halfmax = (np.max(S21) + S_min) / 2\n",
    "    # Find the frequencies corresponding to the half-maximum points\n",
    "    left_idx = np.argmin(np.abs(S21[:min_idx] - halfmax))\n",
    "    right_idx = min_idx + np.argmin(np.abs(S21[min_idx:] - halfmax))\n",
    "    hm_f_lo = f[left_idx]\n",
    "    hm_f_hi = f[right_idx]\n",
    "    # Calculate FWHM\n",
    "    FWHM = abs(hm_f_hi - hm_f_lo)\n",
    "    return f_min, S_min, FWHM\n"
   ]
  },
  {
   "cell_type": "code",
   "execution_count": null,
   "metadata": {},
   "outputs": [],
   "source": [
    "### Solution:"
   ]
  },
  {
   "cell_type": "code",
   "execution_count": null,
   "metadata": {},
   "outputs": [],
   "source": [
    "### Solution:"
   ]
  },
  {
   "cell_type": "markdown",
   "metadata": {},
   "source": [
    "```diff\n",
    "+ 2. Fit the resonator to a Lorentzian using the scipy `curve_fit` function. Do so by zooming in to the center of your data to get a good fit (right around the resonance)\n",
    "\n",
    "```\n",
    "\n",
    "You will need to make a guess at the FWHM, the resonance frequency, and an overall factor corresponding to the amplitude of your resonator dip (see the Lorentzian function above)."
   ]
  },
  {
   "cell_type": "code",
   "execution_count": null,
   "metadata": {},
   "outputs": [],
   "source": [
    "### Solution:"
   ]
  },
  {
   "cell_type": "markdown",
   "metadata": {},
   "source": [
    "```diff\n",
    "+ 3. Use the linewidth you fitted to compute the quality factor of your resonator.\n",
    "\n",
    "```"
   ]
  },
  {
   "cell_type": "code",
   "execution_count": null,
   "metadata": {},
   "outputs": [],
   "source": [
    "### Solution:"
   ]
  },
  {
   "cell_type": "markdown",
   "metadata": {},
   "source": [
    "```diff\n",
    "+ 4. Compare this quality factor to the quality factor of the readout resonator in the QICK paper: \n",
    "\n",
    "```\n",
    "https://arxiv.org/abs/2110.00557 Figure 14"
   ]
  },
  {
   "cell_type": "code",
   "execution_count": null,
   "metadata": {},
   "outputs": [],
   "source": [
    "### Solution:"
   ]
  },
  {
   "cell_type": "markdown",
   "metadata": {},
   "source": [
    "### Note: As we mentioned above, this is not a real resonator, so there’s some slight differences. A resonator represented as a transfer function can made with a pole and a zero of a complex function (the coefficients c0 and c1 are the location of the zero and the pole.) Let's learn about what changing these coefficients do."
   ]
  },
  {
   "cell_type": "code",
   "execution_count": null,
   "metadata": {
    "scrolled": true
   },
   "outputs": [],
   "source": [
    "def polezero(f, f0, c0, c1, G):\n",
    "    z = np.exp(1j*f)\n",
    "    # apply an overall G0 = (1+c1)/(1+c0) which seems to normalize to 1 far from the resonance\n",
    "    G0 = (1+c1)/(1+c0)\n",
    "    return G*G0*np.abs((z-c0*np.exp(1j*f0))/(z-c1*np.exp(1j*f0)))"
   ]
  },
  {
   "cell_type": "markdown",
   "metadata": {},
   "source": [
    "### Varying coefficient c0 sets the depth of the minimum"
   ]
  },
  {
   "cell_type": "code",
   "execution_count": null,
   "metadata": {},
   "outputs": [],
   "source": [
    "plt.semilogy(freqs, polezero(freqs, 500, 0.99, 0.5, 1.0), label='larger c0',color='blue')\n",
    "plt.semilogy(freqs, polezero(freqs, 500, 0.8, 0.5, 1.0),label='smaller c0',color='green')\n",
    "plt.legend()"
   ]
  },
  {
   "cell_type": "markdown",
   "metadata": {},
   "source": [
    "### Varying coefficient c1 sets the width scale"
   ]
  },
  {
   "cell_type": "code",
   "execution_count": null,
   "metadata": {},
   "outputs": [],
   "source": [
    "plt.semilogy(freqs, polezero(freqs, 500, 0.99, 0.9, 1.0), label='larger c1',color='blue')\n",
    "plt.semilogy(freqs, polezero(freqs, 500, 0.99, 0.5, 1.0), label='smaller c1',color='green')\n",
    "plt.legend()"
   ]
  },
  {
   "cell_type": "markdown",
   "metadata": {},
   "source": [
    "### To lower the resonator's quality factor, lower c0, and then choose c1 < c0"
   ]
  },
  {
   "cell_type": "code",
   "execution_count": null,
   "metadata": {},
   "outputs": [],
   "source": [
    "plt.semilogy(freqs, polezero(freqs, 500, 0.97, 0.8, 1.0), label='larger Q (smaller k)',color='blue')\n",
    "plt.semilogy(freqs, polezero(freqs, 500, 0.9, 0.5, 1.0),label='smaller Q (larger k)',color='green')\n",
    "plt.legend(loc='lower left', prop={'size': 11})"
   ]
  },
  {
   "cell_type": "markdown",
   "metadata": {},
   "source": [
    "# Let's fit a different resonator now"
   ]
  },
  {
   "cell_type": "code",
   "execution_count": null,
   "metadata": {},
   "outputs": [],
   "source": [
    "soc.config_resonator(c0=0.8, c1=0.4, verbose=True)"
   ]
  },
  {
   "cell_type": "markdown",
   "metadata": {},
   "source": [
    "# Resonator spectroscopy\n",
    "\n",
    "By measuring the complex S_21 of the resonator around its resonant frequency, we can find its resonance and then fit it to find its quality factor. Let's measure this S_21 of our resonator."
   ]
  },
  {
   "cell_type": "code",
   "execution_count": null,
   "metadata": {},
   "outputs": [],
   "source": [
    "START_FREQ = 495\n",
    "CAL_RANGE = 0.1\n",
    "END_FREQ = 505\n",
    "\n",
    "\n",
    "# do a sweep with 5 points and plot decimated\n",
    "config = {'steps': 5,\n",
    "          'gen_ch': GEN_CH,\n",
    "          'ro_ch': RO_CH,\n",
    "          'freq': QickSweep1D(\"myloop\", START_FREQ, START_FREQ+CAL_RANGE),\n",
    "          'nqz': 1,\n",
    "          'trig_time': 3.0,\n",
    "          'ro_len': 7,\n",
    "          'flat_len': 5.0,\n",
    "          'phase': 0,\n",
    "          'gain': 1.0,\n",
    "         }"
   ]
  },
  {
   "cell_type": "code",
   "execution_count": null,
   "metadata": {},
   "outputs": [],
   "source": [
    "# config['steps']=100001\n",
    "config['steps']=1001\n",
    "\n",
    "prog = FreqSweepProgram(soccfg, reps=10, final_delay=1.0, cfg=config)\n",
    "freqs = prog.get_pulse_param('myro', 'freq', as_array=True)\n",
    "iq_list = prog.acquire(soc, soft_avgs=1, progress=True)\n",
    "# plt.plot(np.angle(iq_list[0][0].dot([1,1j]), deg=True))\n",
    "\n",
    "# plt.plot(iq_list[0][0,:,0], iq_list[0][0,:,1], '.')\n",
    "# plt.ylabel(\"Q [ADU]\")\n",
    "# plt.xlabel(\"I [ADU]\");\n",
    "\n",
    "iq_complex = iq_list[0][0].dot([1,1j])\n",
    "phases = np.unwrap(np.angle(iq_complex))/(2*np.pi)\n",
    "\n",
    "plt.plot(freqs, phases)\n",
    "plt.ylabel(\"Phase [cycles]\")\n",
    "plt.xlabel(\"Frequency [MHz]\")\n",
    "\n",
    "print(\"phase step (cycles):\", phases[1]-phases[0])\n",
    "\n",
    "a = np.vstack([freqs, np.ones_like(freqs)]).T\n",
    "phase_delay = np.linalg.lstsq(a, phases, rcond=None)[0][0]\n",
    "print(\"relative delay %.4f us\"%(phase_delay))"
   ]
  },
  {
   "cell_type": "markdown",
   "metadata": {},
   "source": [
    "Now we sweep the frequency about the resonance of our resonator."
   ]
  },
  {
   "cell_type": "code",
   "execution_count": null,
   "metadata": {},
   "outputs": [],
   "source": [
    "config['freq'] = QickSweep1D(\"myloop\", START_FREQ, END_FREQ)\n",
    "\n",
    "config['steps'] = 10001\n",
    "\n",
    "prog = FreqSweepProgram(soccfg, reps=10, final_delay=10.0, cfg=config)\n",
    "freqs = prog.get_pulse_param('myro', 'freq', as_array=True)\n",
    "iq_list = prog.acquire(soc, soft_avgs=1, progress=True)\n",
    "iq_complex = iq_list[0][0].dot([1,1j])"
   ]
  },
  {
   "cell_type": "markdown",
   "metadata": {},
   "source": [
    "Now we rotate the IQ data to calibrate away the cable delay across the resonance, and plot the signal amplitude and phase."
   ]
  },
  {
   "cell_type": "code",
   "execution_count": null,
   "metadata": {},
   "outputs": [],
   "source": [
    "iq_rotated = iq_complex*np.exp(-1j*freqs*2*np.pi*phase_delay)\n",
    "# phases_corrected = np.unwrap(np.angle(iq_rotated))/(2*np.pi)\n",
    "phases_corrected = np.angle(iq_rotated)/(2*np.pi)\n",
    "\n",
    "fig, plot = plt.subplots()\n",
    "plot.semilogy(freqs, np.abs(iq_rotated), label=\"amplitude\")\n",
    "ax2 = plot.twinx()  # instantiate a second axes that shares the same x-axis\n",
    "ax2.plot(freqs, phases_corrected, color='red', label='phase')\n",
    "plot.set_ylabel(\"amplitude [ADU]\")\n",
    "plot.set_xlabel(\"frequency [MHz]\")\n",
    "ax2.set_ylabel(\"phase [cycles]\");\n",
    "plot.legend()"
   ]
  },
  {
   "cell_type": "markdown",
   "metadata": {},
   "source": [
    "Now we plot the amplitude in units of decibels (dB) as this is the S21 transmission signal that we want to fit."
   ]
  },
  {
   "cell_type": "code",
   "execution_count": null,
   "metadata": {
    "scrolled": true
   },
   "outputs": [],
   "source": [
    "S21_r2 = np.real(20*np.log10(iq_rotated/np.max(np.abs(iq_rotated))))\n",
    "\n",
    "#############\n",
    "### Plots ###\n",
    "#############\n",
    "plt.plot(freqs,S21_r2,color='orange')\n",
    "plt.xlabel('f [MHz]')\n",
    "plt.ylabel('S21 [dB]');"
   ]
  },
  {
   "cell_type": "markdown",
   "metadata": {},
   "source": [
    "### Let's fit this resonator and extract its quality factor. \n",
    "\n",
    "Q = f/kappa, where kappa is the linewidth of the resonator-- its full width at half maximum."
   ]
  },
  {
   "cell_type": "markdown",
   "metadata": {},
   "source": [
    "```diff\n",
    "+ 1. Find the full width, half maximum (kappa) of the resonator, analytically. Then determine the quality factor of the resonator.\n",
    "```"
   ]
  },
  {
   "cell_type": "code",
   "execution_count": null,
   "metadata": {},
   "outputs": [],
   "source": [
    "### Solution:"
   ]
  },
  {
   "cell_type": "markdown",
   "metadata": {},
   "source": [
    "```diff\n",
    "+ 2. Fit the resonator to a Lorentzian using the scipy `curve_fit` function. Do so by zooming in to the center of your data to get a good fit (right around the resonance)\n",
    "\n",
    "```\n",
    "You will need to make a guess at the FWHM, the resonance frequency, and an overall factor corresponding to the amplitude of your resonator dip (see the Lorentzian function above)."
   ]
  },
  {
   "cell_type": "code",
   "execution_count": null,
   "metadata": {},
   "outputs": [],
   "source": [
    "### Solution:"
   ]
  },
  {
   "cell_type": "markdown",
   "metadata": {},
   "source": [
    "```diff\n",
    "+ 3. Use the linewidth you fitted to compute the quality factor of your resonator.\n",
    "\n",
    "```"
   ]
  },
  {
   "cell_type": "code",
   "execution_count": null,
   "metadata": {},
   "outputs": [],
   "source": [
    "### Solution:"
   ]
  },
  {
   "cell_type": "markdown",
   "metadata": {},
   "source": [
    "# Overlaying a fit to the resonator to visualize its transfer function S21\n",
    "\n",
    "Plot functions credit to Professor Alex Ma: https://colab.research.google.com/drive/1sLLlLYMNsGkx8GDkBFPCNZmclJiPkWvr?usp=sharing#scrollTo=TNvM-OswNped \n",
    "\n",
    "Ma lab website: https://www.ma-quantumlab.com/ "
   ]
  },
  {
   "cell_type": "code",
   "execution_count": null,
   "metadata": {},
   "outputs": [],
   "source": [
    "%matplotlib inline\n",
    "import matplotlib.image as mpimg\n",
    "from matplotlib.pyplot import *\n",
    "from scipy import *\n",
    "from numpy import *\n",
    "import time\n",
    "\n",
    "from matplotlib.pyplot import *\n",
    "font = {'family' : 'DejaVu Sans',\n",
    "        'weight' : 'normal',\n",
    "        'size'   : 16}\n",
    "matplotlib.rc('font', **font)\n",
    "\n",
    "from ipywidgets import interactive, fixed\n",
    "import ipywidgets as widgets\n",
    "from IPython.display import display"
   ]
  },
  {
   "cell_type": "code",
   "execution_count": null,
   "metadata": {},
   "outputs": [],
   "source": [
    "def plot_resonance(dw, Sdata, fmin, amp, freq_data, S21_data, label):\n",
    "    dw_range = max(dw)\n",
    "    figure(figsize=[15,9])\n",
    "    ax = subplot(2,3,1); title(\"Abs \"+label); plot(dw+fmin, abs(Sdata))\n",
    "    ax.set_xlim(fmin-dw_range,fmin+dw_range); ax.set_ylim(0, 1.5)\n",
    "    axhline(1.0, ls='--')\n",
    "    ax.plot(freq_data, (-1/amp)*S21_data+1, label=\"data\")\n",
    "    ax.legend(loc='lower left', prop={'size': 10})\n",
    "    \n",
    "    ax = subplot(2,3,2); title(\"Arg \"+label); plot(dw+fmin, angle(Sdata))\n",
    "    ax.set_xlim(fmin-dw_range,fmin+dw_range); ax.set_ylim(-pi,pi)\n",
    "    axhline(0.0, ls='--')\n",
    "\n",
    "    ax = subplot(2,3,3); title(\"Complex \"+label); plot(real(Sdata), imag(Sdata))\n",
    "    ax.set_xlim(-1.05, 1.05); ax.set_ylim(-1.05, 1.5)\n",
    "    axhline(0.0, ls='--'); axvline(0.0, ls='--')\n",
    "\n",
    "    ax = subplot(2,3,4); title(\"Re \"+label); plot(dw+fmin, real(Sdata))\n",
    "    ax.set_xlim(fmin-dw_range,fmin+dw_range); ax.set_ylim(-1.5, 1.5)\n",
    "    axhline(0.0, ls='--')\n",
    "\n",
    "    ax = subplot(2,3,5); title(\"Im \"+label); plot(dw+fmin, imag(Sdata))\n",
    "    ax.set_xlim(fmin-dw_range,fmin+dw_range); ax.set_ylim(-1.5, 1.5)\n",
    "    axhline(0.0, ls='--')\n",
    "\n",
    "    show()"
   ]
  },
  {
   "cell_type": "markdown",
   "metadata": {},
   "source": [
    "Source for the hanger equation: e.g. Equation 1 of https://arxiv.org/abs/0908.2948"
   ]
  },
  {
   "cell_type": "code",
   "execution_count": null,
   "metadata": {},
   "outputs": [],
   "source": [
    "def plotHanger(fmin, amp, freq_data, S21_data, df_range, k_inner, k_out):\n",
    "      df = np.linspace(-df_range,df_range,1001)\n",
    "      S21 = 1j*(1-k_out/(k_inner+2.0j*df+k_out))\n",
    "      plot_resonance(df, S21, fmin, amp, freq_data, S21_data, label='S21')"
   ]
  },
  {
   "cell_type": "code",
   "execution_count": null,
   "metadata": {},
   "outputs": [],
   "source": [
    "interactive_plot = interactive(plotHanger, \n",
    "                               fmin=fixed(f_lorentzian_r2), amp=fixed(gain_factor_lorentzian_r2), \n",
    "                               freq_data=fixed(freqs),S21_data=fixed(S21_r2),\n",
    "                               df_range=(2,22,1.0), k_inner=(0, 2.0, 0.05), k_out=(0, 2.0, 0.05))\n",
    "interactive_plot"
   ]
  },
  {
   "cell_type": "markdown",
   "metadata": {},
   "source": [
    "```diff\n",
    "+ 4. What does changing k_inner do? What does changing k_outer do? Use the slider bar to find the k_inner and k_out which fit the data the best.\n",
    "\n",
    "```\n",
    "* k_inner = kappa internal, the loss rate from internal sources of loss (resistances, dielectrics, etc).\n",
    "* k_out = kappa external, the loss through the coupling ports."
   ]
  },
  {
   "cell_type": "code",
   "execution_count": null,
   "metadata": {},
   "outputs": [],
   "source": [
    "## Solution:"
   ]
  },
  {
   "cell_type": "markdown",
   "metadata": {},
   "source": [
    "```diff\n",
    "+ 5. Plot the first resonator with the higher quality factor and find its k_inner and k_outer. Which resonator has the higher k_inner and k_outer?\n",
    "\n",
    "```\n"
   ]
  },
  {
   "cell_type": "code",
   "execution_count": null,
   "metadata": {},
   "outputs": [],
   "source": [
    "interactive_plot = interactive(plotHanger, \n",
    "                               fmin=fixed(f_lorentzian_r1), amp=fixed(gain_factor_lorentzian_r1), \n",
    "                               freq_data=fixed(freqs),S21_data=fixed(S21_r1),\n",
    "                               df_range=(2,22,1.0), k_inner=(0, 1.0, 0.05), k_out=(0, 1.0, 0.05))\n",
    "interactive_plot"
   ]
  },
  {
   "cell_type": "code",
   "execution_count": null,
   "metadata": {},
   "outputs": [],
   "source": [
    "## Solution:"
   ]
  },
  {
   "cell_type": "markdown",
   "metadata": {},
   "source": [
    "# We read a superconducting qubit out using the readout resonator that it is coupled to."
   ]
  },
  {
   "cell_type": "markdown",
   "metadata": {},
   "source": [
    " In these labs we will be studying qubit readout with both resonators we looked at and fit today.\n",
    "\n",
    "The qubit being in a certain state (e.g. the ground state versus the excited state) causes a shift in the frequency of the qubit's readout resonator. This change of frequency causes a change in the complex S_21 of a readout tone transmitted through the fridge. \n"
   ]
  },
  {
   "cell_type": "markdown",
   "metadata": {},
   "source": [
    "# Controlling the resonator (making it jump)\n",
    "\n",
    "This example continuously reads the amplitude at a fixed frequency, near the resonator location. It then creates a trigger that causes the resonator to move. It will show as an amplitude jump followed by a recovery."
   ]
  },
  {
   "cell_type": "code",
   "execution_count": null,
   "metadata": {},
   "outputs": [],
   "source": [
    "soc.config_resonator(c0=0.99, c1=0.8, dt=100, verbose=True)"
   ]
  },
  {
   "cell_type": "markdown",
   "metadata": {},
   "source": [
    "### In this program, we trigger the resonator to jump after `t_jump`=5 us during a pulse that is `pulse_len` = 15 us long."
   ]
  },
  {
   "cell_type": "code",
   "execution_count": null,
   "metadata": {},
   "outputs": [],
   "source": [
    "class ResTestProgram(AveragerProgramV2):\n",
    "    def initialize(self, cfg):\n",
    "        ro_ch = cfg['ro_ch']\n",
    "        gen_ch = cfg['gen_ch']\n",
    "        \n",
    "        self.declare_gen(ch=gen_ch, nqz=cfg['nqz'])\n",
    "        self.declare_readout(ch=ro_ch, length=cfg['ro_len'])\n",
    "\n",
    "        self.add_readoutconfig(ch=ro_ch, name=\"myro\", freq=cfg['freq'], gen_ch=gen_ch)\n",
    "\n",
    "        self.add_pulse(ch=gen_ch, name=\"mypulse\", ro_ch=ro_ch, \n",
    "                       style=\"const\", \n",
    "#                        mode='periodic',\n",
    "                       freq=cfg['freq'], \n",
    "                       length=cfg['pulse_len'],\n",
    "                       phase=cfg['phase'],\n",
    "                       gain=cfg['gain'], \n",
    "                      )\n",
    "        \n",
    "        # trigger the resonator and the DDR4 buffer\n",
    "        self.trigger(ddr4=True, mr=True, t=0)\n",
    "        self.send_readoutconfig(ch=cfg['ro_ch'], name=\"myro\", t=0)\n",
    "        \n",
    "    def body(self, cfg):\n",
    "        self.pulse(ch=cfg['gen_ch'], name=\"mypulse\", t=0)\n",
    "        if cfg['do_jump']:\n",
    "            self.trigger(pins=list(range(8,16)), t=cfg['t_jump'])\n",
    "        self.trigger(ros=[cfg['ro_ch']], pins=[0], t=cfg['trig_time'])\n",
    "\n",
    "# do a sweep with 5 points and plot decimated\n",
    "config = {'gen_ch': GEN_CH,\n",
    "          'ro_ch': RO_CH,\n",
    "          'freq': 500.0,\n",
    "          'nqz': 1,\n",
    "          'trig_time': 3.0,\n",
    "          'do_jump' : True,\n",
    "          't_jump' : 12,\n",
    "          'ro_len': 20,\n",
    "          'pulse_len': 15,\n",
    "          'phase': 0,\n",
    "          'gain': 1.0,\n",
    "#           'gain': 0.05,\n",
    "         }\n",
    "\n",
    "prog = ResTestProgram(soccfg, reps=1, final_delay=10.0, cfg=config)\n",
    "\n",
    "\n",
    "# Arm the buffers\n",
    "soc.arm_mr(ch=RO_CH)\n",
    "n_transfers = 100000 # each transfer (aka burst) is 256 decimated samples\n",
    "soc.arm_ddr4(ch=RO_CH, nt=n_transfers)\n",
    "\n",
    "iq_list = prog.acquire_decimated(soc, soft_avgs=1)\n",
    "t = prog.get_time_axis(ro_index=0)\n",
    "\n",
    "iq=iq_list[0]\n",
    "plt.plot(t, iq[:,0], label=\"I value\", color=\"magenta\")\n",
    "plt.plot(t, iq[:,1], label=\"Q value\", color=\"blue\")\n",
    "plt.plot(t, np.abs(iq.dot([1,1j])), label=\"mag\", color=\"green\")\n",
    "plt.legend()\n",
    "plt.ylabel(\"amplitude [ADU]\")\n",
    "plt.xlabel(\"time [us]\");"
   ]
  },
  {
   "cell_type": "markdown",
   "metadata": {},
   "source": [
    "```diff\n",
    "+ Q. Change `t_jump`, `pulse_len`,`ro_len`, and `do_jump`. Also change `freq` to 499.0 and try that. Do the results match your expectation?\n",
    "\n",
    "```"
   ]
  },
  {
   "cell_type": "markdown",
   "metadata": {},
   "source": [
    "# We read a superconducting qubit out using the readout resonator that it is coupled to."
   ]
  },
  {
   "cell_type": "markdown",
   "metadata": {},
   "source": [
    "When a qubit decays from its excited state to its ground state, its readout resonator jumps back from “e”to “g” instantaneously at random times given by a Poisson distribution with a time scale set by the qubit’s T1 time. In the next lab, we will specify the amount of T1 decay we want."
   ]
  },
  {
   "cell_type": "markdown",
   "metadata": {},
   "source": [
    "```diff\n",
    "+ Q. Look at what happens to I, Q and mag during these jumps. How does this correspond to a measurement of T1 decay? What would it look like for a qubit to undergo T1 decay after 12 us?\n",
    "```"
   ]
  },
  {
   "cell_type": "code",
   "execution_count": null,
   "metadata": {},
   "outputs": [],
   "source": []
  }
 ],
 "metadata": {
  "kernelspec": {
   "display_name": "Python 3 (ipykernel)",
   "language": "python",
   "name": "python3"
  },
  "language_info": {
   "codemirror_mode": {
    "name": "ipython",
    "version": 3
   },
   "file_extension": ".py",
   "mimetype": "text/x-python",
   "name": "python",
   "nbconvert_exporter": "python",
   "pygments_lexer": "ipython3",
   "version": "3.10.4"
  }
 },
 "nbformat": 4,
 "nbformat_minor": 4
}
