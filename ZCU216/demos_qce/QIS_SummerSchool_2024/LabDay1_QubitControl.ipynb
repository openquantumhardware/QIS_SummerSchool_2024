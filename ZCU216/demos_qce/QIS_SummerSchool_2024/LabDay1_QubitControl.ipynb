{
 "cells": [
  {
   "cell_type": "markdown",
   "metadata": {},
   "source": [
    "# RF superconducting qubit control 101 - sending pulses to two qubits"
   ]
  },
  {
   "cell_type": "code",
   "execution_count": 1,
   "metadata": {},
   "outputs": [],
   "source": [
    "#pip install cirq"
   ]
  },
  {
   "cell_type": "code",
   "execution_count": null,
   "metadata": {},
   "outputs": [],
   "source": [
    "import sys\n",
    "# sys.path.append('../../qick/qick_lib/')\n",
    "sys.path.append('../soft/')\n",
    "sys.path.append('../firmware/')\n",
    "\n",
    "from qick import *\n",
    "from qick_training import *\n",
    "from qick.averager_program import QickSweep\n",
    "from qick.averager_program import merge_sweeps\n",
    "from RBSupport import generate_2qgateset\n",
    "\n",
    "import numpy as np\n",
    "from numpy.fft import fft, fftshift\n",
    "import matplotlib.pyplot as plt\n",
    "import pickle\n",
    "from matplotlib.ticker import (AutoMinorLocator, MultipleLocator)\n",
    "import matplotlib.ticker as mtick"
   ]
  },
  {
   "cell_type": "code",
   "execution_count": null,
   "metadata": {},
   "outputs": [],
   "source": [
    "soc = QickSoc()\n",
    "soccfg = soc\n",
    "\n",
    "print(soccfg)"
   ]
  },
  {
   "cell_type": "code",
   "execution_count": null,
   "metadata": {},
   "outputs": [],
   "source": [
    "class PulseSequence(AveragerProgram):\n",
    "    def initialize_phases(self):\n",
    "        ## Prepare state\n",
    "        self.phase_ref_q1 = 0\n",
    "        self.phase_ref_q2 = 0\n",
    "        self.phase_ref_c = 0\n",
    "    \n",
    "    def play_seq(self, seq):\n",
    "        for g in seq:\n",
    "            for q in g:\n",
    "                if q == \"Q2\":\n",
    "                    ginfo=self.cfg[\"gate_set\"][g[q]]\n",
    "                    if g[q]==\"Z\":\n",
    "                        self.phase_ref_q2+=180\n",
    "                    elif g[q]==\"Z/2\":\n",
    "                        self.phase_ref_q2+=90\n",
    "                    elif g[q]==\"-Z/2\":\n",
    "                        self.phase_ref_q2+=-90\n",
    "                    else:\n",
    "                        self.set_pulse_registers(ch=self.cfg[\"q2_ch\"], freq=self.freq_q2,\n",
    "                                                 phase=self.deg2reg(self.phase_ref_q2 + ginfo[\"phase\"], gen_ch=self.cfg[\"q2_ch\"]),\n",
    "                                                 gain=ginfo[\"gain\"], waveform=g[q], phrst=0,mode=\"oneshot\")\n",
    "                        self.pulse(ch=self.cfg[\"q2_ch\"])\n",
    "                if q == \"Q1\": # Qubit 1\n",
    "                    ginfo=self.cfg[\"gate_set\"][g[q]]\n",
    "                    \"\"\"For the Z gates (virtual rotation), we need to advance the phase of all the pulses which follows afterwards\"\"\"\n",
    "                    if g[q]==\"Z\":\n",
    "                        self.phase_ref_q1+=180\n",
    "                    elif g[q]==\"Z/2\":\n",
    "                        self.phase_ref_q1+=90\n",
    "                    elif g[q]==\"-Z/2\":\n",
    "                        self.phase_ref_q1+=-90\n",
    "                    else:\n",
    "                        self.set_pulse_registers(ch=self.cfg[\"q1_ch\"], freq=self.freq_q1,\n",
    "                                                 phase=self.deg2reg(self.phase_ref_q1 + ginfo[\"phase\"], gen_ch=self.cfg[\"q1_ch\"]),\n",
    "                                                 gain=ginfo[\"gain\"], waveform=g[q], phrst=0,mode=\"oneshot\")\n",
    "                        self.pulse(ch=self.cfg[\"q1_ch\"])\n",
    "            ################\n",
    "           #modified sync_all with only DAC clocks, no ADC clocks\n",
    "            self.synci(self.us2cycles(0.01))\n",
    "    \n",
    "    def initialize(self):\n",
    "        cfg = self.cfg\n",
    "        self.gate_seq = cfg['gate_seq']\n",
    "        self.gate_set = cfg['gate_set']\n",
    "        # set the nyquist zone\n",
    "        self.declare_gen(ch=cfg[\"q1_ch\"], nqz=1)\n",
    "        self.declare_gen(ch=cfg[\"q2_ch\"], nqz=1)\n",
    "\n",
    "        for ch in cfg[\"ro_chs\"]:\n",
    "            self.declare_readout(ch=ch, length=cfg[\"readout_length\"],\n",
    "                                 freq=cfg[\"q\" + str(ch + 1) +\"_read_freq\"], \n",
    "                                 gen_ch=cfg[\"q\" + str(ch + 1) +\"_ch\"])\n",
    "            \n",
    "        # convert frequency to DAC frequency (ensuring it is an available ADC frequency)\n",
    "        self.freq_q1 = self.freq2reg(cfg[\"q1_pulse_freq\"], gen_ch=cfg[\"q1_ch\"], ro_ch=cfg[\"q1_ro_ch\"])\n",
    "        self.freq_q2 = self.freq2reg(cfg[\"q2_pulse_freq\"], gen_ch=cfg[\"q2_ch\"], ro_ch=cfg[\"q2_ro_ch\"])\n",
    "\n",
    "        for name, ginfo in self.gate_set.items():\n",
    "            self.add_pulse(ch=cfg[\"q1_ch\"], name=name,\n",
    "                           idata=ginfo[\"idata\"],\n",
    "                           qdata=ginfo[\"qdata\"],\n",
    "                          )\n",
    "            self.add_pulse(ch=cfg[\"q2_ch\"], name=name,\n",
    "                           idata=ginfo[\"idata\"],\n",
    "                           qdata=ginfo[\"qdata\"],\n",
    "                          )\n",
    "\n",
    "        self.default_pulse_registers(ch=cfg[\"q1_ch\"], style=\"arb\")\n",
    "        self.default_pulse_registers(ch=cfg[\"q2_ch\"], style=\"arb\")\n",
    "\n",
    "        self.synci(1000)  # give processor some time to configure pulses\n",
    "\n",
    "    def body(self):\n",
    "        ## Trigger measurement\n",
    "        self.trigger(adcs=self.ro_chs,\n",
    "                     pins=[0],\n",
    "                     adc_trig_offset=self.cfg[\"adc_trig_offset\"])\n",
    "\n",
    "        self.initialize_phases()\n",
    "        self.play_seq(self.gate_seq)\n",
    "        self.wait_all()\n",
    "        self.sync_all(self.us2cycles(self.cfg[\"relax_delay\"]))"
   ]
  },
  {
   "cell_type": "code",
   "execution_count": null,
   "metadata": {},
   "outputs": [],
   "source": [
    "# Plot function\n",
    "\n",
    "def plot_2q(iq_lists):\n",
    "    for n in range(0, len(iq_lists)):\n",
    "        fig, axs = plt.subplots(len(iq_lists[n]),dpi=200)\n",
    "        for ii, iq in enumerate(iq_lists[n]):\n",
    "            axs[ii].set_title(\"Qubit %d\" % (config['ro_chs'][ii]+1))\n",
    "            axs[ii].plot(1000*soc.cycles2us(np.arange(0,len(iq[0])),ro_ch=config['ro_chs'][ii]\n",
    "                                                                ),iq[0], label=\"I value, ADC %d\" % (config['ro_chs'][ii]))\n",
    "            axs[ii].plot(1000*soc.cycles2us(np.arange(0,len(iq[0])),ro_ch=config['ro_chs'][ii]\n",
    "                                                                ),iq[1], label=\"Q value, ADC %d\" % (config['ro_chs'][ii]))\n",
    "            axs[ii].plot(1000*soc.cycles2us(np.arange(0,len(iq[0])),ro_ch=config['ro_chs'][ii]\n",
    "                                                                ),np.abs(iq[0] + 1j * iq[1]), label=\"mag, ADC %d\" % (config['ro_chs'][ii]))\n",
    "            axs[ii].legend(loc=1, prop={'size': 6})\n",
    "            axs[ii].set_ylabel(\"a.u.\")\n",
    "            axs[ii].xaxis.set_major_locator(MultipleLocator(1000*5*soc.cycles2us(4, gen_ch = 0)))\n",
    "            axs[ii].grid(which='major', color='#CCCCCC', linestyle='--')\n",
    "            axs[ii].xaxis.set_major_formatter(mtick.FormatStrFormatter('%.1f'))\n",
    "            axs[ii].tick_params(axis='x', rotation=45)\n",
    "\n",
    "        plt.xlabel('ns')\n",
    "        plt.tight_layout()"
   ]
  },
  {
   "cell_type": "code",
   "execution_count": null,
   "metadata": {},
   "outputs": [],
   "source": [
    "from IPython.display import Image, display\n",
    "display(Image(filename='images/Connections_Pulse_sequence.png', embed=True))"
   ]
  },
  {
   "cell_type": "markdown",
   "metadata": {},
   "source": [
    "# RF superconducting qubit control 101: Let's get started!"
   ]
  },
  {
   "cell_type": "markdown",
   "metadata": {},
   "source": [
    "## Qubits are resonant devices\n",
    "\n",
    "Qubits are resonant devices: they only respond to on-resonance signals, but avoid exciting other transitions.\n",
    "\n",
    "Let's drive our qubits with three 2 GHz \"X\" pi pulses in a row. Since we are also reading in at 2 GHz, we see a fully downconverted \"DC\" signal."
   ]
  },
  {
   "cell_type": "code",
   "execution_count": null,
   "metadata": {},
   "outputs": [],
   "source": [
    "q1_pulse_freq = 2000 \n",
    "q1_read_freq = 2000\n",
    "q2_pulse_freq = 2000 \n",
    "q2_read_freq = 2000\n",
    "\n",
    "config = {\"q1_ch\": 0,  # --Fixed\n",
    "          \"q2_ch\": 2,\n",
    "          \"q1_ro_ch\": 0,\n",
    "          \"q2_ro_ch\": 1,\n",
    "          \"ro_chs\": [0,1],\n",
    "          \"reps\": 1,  # --Fixed\n",
    "          \"relax_delay\": 1.0,  # --us\n",
    "          \"res_phase\": 0,  # --degrees\n",
    "          \"pulse_style\": \"arb\",  # --Fixed\n",
    "          \"pi_sigma\": soc.us2cycles(0.01,gen_ch=2),\n",
    "          \"readout_length\": soc.us2cycles(1,ro_ch=0),  # [Clock ticks]\n",
    "          \"pi_gain\": 30000,  # [DAC units]\n",
    "          \"pi_2_gain\": 15000,\n",
    "          \"q1_pulse_freq\": q1_pulse_freq,  # [MHz]\n",
    "          \"q2_pulse_freq\": q2_pulse_freq,  # [MHz]\n",
    "          \"q1_read_freq\": q1_read_freq,\n",
    "          \"q2_read_freq\": q2_read_freq,\n",
    "          \"adc_trig_offset\": soc.us2cycles(0.52,ro_ch=0),  # [Clock ticks]\n",
    "          \"soft_avgs\": 1,\n",
    "          \"expts\": 1\n",
    "          }\n",
    "\n",
    "config[\"gate_set\"] = generate_2qgateset(config)\n",
    "\n",
    "config['gate_seq'] = [{'Q1': 'X', 'Q2': 'X'}, {'Q1': 'X', 'Q2': 'X'}, {'Q1': 'X', 'Q2': 'X'} ]\n",
    "\n",
    "print(config['gate_seq'])"
   ]
  },
  {
   "cell_type": "code",
   "execution_count": null,
   "metadata": {},
   "outputs": [],
   "source": [
    "prog = PulseSequence(soccfg, config)\n",
    "# print(prog)\n",
    "iq_lists = []\n",
    "# print(self.cfg)\n",
    "soc.reset_gens()  # clear any DC or periodic values on generators\n",
    "iq_list = prog.acquire_decimated(soc, load_pulses=True, progress=False, debug=False)\n",
    "iq_lists.append(iq_list)"
   ]
  },
  {
   "cell_type": "code",
   "execution_count": null,
   "metadata": {},
   "outputs": [],
   "source": [
    "plot_2q(iq_lists)"
   ]
  },
  {
   "cell_type": "markdown",
   "metadata": {},
   "source": [
    "Let's try reading in at a different frequency. When we do this, we don't \"downconvert\" the signal fully and end up seeing frequency components in I/Q space. The signal has the same magnitude though. We DON'T want to do this with real qubits as we want to see the undistorted signals in I/Q space. We will talk about this in the next notebook QubitReadout.\n"
   ]
  },
  {
   "cell_type": "code",
   "execution_count": null,
   "metadata": {},
   "outputs": [],
   "source": [
    "q1_pulse_freq = 2000 \n",
    "q1_read_freq = 2100\n",
    "q2_pulse_freq = 2000 \n",
    "q2_read_freq = 2100\n",
    "\n",
    "config = {\"q1_ch\": 0,  # --Fixed\n",
    "          \"q2_ch\": 2,\n",
    "          \"q1_ro_ch\": 0,\n",
    "          \"q2_ro_ch\": 1,\n",
    "          \"ro_chs\": [0,1],\n",
    "          \"reps\": 1,  # --Fixed\n",
    "          \"relax_delay\": 1.0,  # --us\n",
    "          \"res_phase\": 0,  # --degrees\n",
    "          \"pulse_style\": \"arb\",  # --Fixed\n",
    "          \"pi_sigma\": soc.us2cycles(0.01,gen_ch=2),\n",
    "          \"readout_length\": soc.us2cycles(1,ro_ch=0),  # [Clock ticks]\n",
    "          \"pi_gain\": 30000,  # [DAC units]\n",
    "          \"pi_2_gain\": 15000,\n",
    "          \"q1_pulse_freq\": q1_pulse_freq,  # [MHz]\n",
    "          \"q2_pulse_freq\": q2_pulse_freq,  # [MHz]\n",
    "          \"q1_read_freq\": q1_read_freq,\n",
    "          \"q2_read_freq\": q2_read_freq,\n",
    "          \"adc_trig_offset\": soc.us2cycles(0.52,ro_ch=0),  # [Clock ticks]\n",
    "          \"soft_avgs\": 1,\n",
    "          \"expts\": 1\n",
    "          }\n",
    "\n",
    "\n",
    "config[\"gate_set\"] = generate_2qgateset(config)\n",
    "\n",
    "config['gate_seq'] = [{'Q1': 'X', 'Q2': 'X'}, {'Q1': 'X', 'Q2': 'X'}, {'Q1': 'X', 'Q2': 'X'} ]\n",
    "\n",
    "print(config['gate_seq']) "
   ]
  },
  {
   "cell_type": "code",
   "execution_count": null,
   "metadata": {},
   "outputs": [],
   "source": [
    "prog = PulseSequence(soccfg, config)\n",
    "# print(prog)\n",
    "iq_lists = []\n",
    "# print(self.cfg)\n",
    "soc.reset_gens()  # clear any DC or periodic values on generators\n",
    "iq_list = prog.acquire_decimated(soc, load_pulses=True, progress=False, debug=False)\n",
    "iq_lists.append(iq_list)"
   ]
  },
  {
   "cell_type": "code",
   "execution_count": null,
   "metadata": {},
   "outputs": [],
   "source": [
    "plot_2q(iq_lists)"
   ]
  },
  {
   "cell_type": "markdown",
   "metadata": {},
   "source": [
    "In general, the qubits are at different frequencies. "
   ]
  },
  {
   "cell_type": "code",
   "execution_count": null,
   "metadata": {},
   "outputs": [],
   "source": [
    "q1_pulse_freq = 2000 \n",
    "q1_read_freq = 2000\n",
    "q2_pulse_freq = 2100 \n",
    "q2_read_freq = 2100\n",
    "\n",
    "config = {\"q1_ch\": 0,  # --Fixed\n",
    "          \"q2_ch\": 2,\n",
    "          \"q1_ro_ch\": 0,\n",
    "          \"q2_ro_ch\": 1,\n",
    "          \"ro_chs\": [0,1],\n",
    "          \"reps\": 1,  # --Fixed\n",
    "          \"relax_delay\": 1.0,  # --us\n",
    "          \"res_phase\": 0,  # --degrees\n",
    "          \"pulse_style\": \"arb\",  # --Fixed\n",
    "          \"pi_sigma\": soc.us2cycles(0.01,gen_ch=2),\n",
    "          \"readout_length\": soc.us2cycles(1,ro_ch=0),  # [Clock ticks]\n",
    "          \"pi_gain\": 30000,  # [DAC units]\n",
    "          \"pi_2_gain\": 15000,\n",
    "          \"q1_pulse_freq\": q1_pulse_freq,  # [MHz]\n",
    "          \"q2_pulse_freq\": q2_pulse_freq,  # [MHz]\n",
    "          \"q1_read_freq\": q1_read_freq,\n",
    "          \"q2_read_freq\": q2_read_freq,\n",
    "          \"adc_trig_offset\": soc.us2cycles(0.52,ro_ch=0),  # [Clock ticks]\n",
    "          \"soft_avgs\": 1,\n",
    "          \"expts\": 1\n",
    "          }\n",
    "\n",
    "\n",
    "config[\"gate_set\"] = generate_2qgateset(config)\n",
    "\n",
    "config['gate_seq'] = [{'Q1': 'X', 'Q2': 'X'}, {'Q1': 'X', 'Q2': 'X'}, {'Q1': 'X', 'Q2': 'X'} ]\n",
    "\n",
    "print(config['gate_seq']) "
   ]
  },
  {
   "cell_type": "code",
   "execution_count": null,
   "metadata": {},
   "outputs": [],
   "source": [
    "prog = PulseSequence(soccfg, config)\n",
    "# print(prog)\n",
    "iq_lists = []\n",
    "# print(self.cfg)\n",
    "soc.reset_gens()  # clear any DC or periodic values on generators\n",
    "iq_list = prog.acquire_decimated(soc, load_pulses=True, progress=False, debug=False)\n",
    "iq_lists.append(iq_list)"
   ]
  },
  {
   "cell_type": "code",
   "execution_count": null,
   "metadata": {},
   "outputs": [],
   "source": [
    "plot_2q(iq_lists)"
   ]
  },
  {
   "cell_type": "markdown",
   "metadata": {},
   "source": [
    "## Quantum gates are Gaussian wave packets at the resonant frequency\n",
    "\n",
    "Quantum gates are wave packets at the resonant frequency; you want an envelope that minimizes duration and bandwidth, so the envelope should be Gaussian, not rectangular.\n",
    "\n",
    "Let's change the width of our Gaussian envelope that we use to drive our qubits.\n",
    "Our original width is 0.01 us. Let's change that to 0.05 us!\n"
   ]
  },
  {
   "cell_type": "code",
   "execution_count": null,
   "metadata": {},
   "outputs": [],
   "source": [
    "q1_pulse_freq = 2000 \n",
    "q1_read_freq = 2000\n",
    "q2_pulse_freq = 2100 \n",
    "q2_read_freq = 2100\n",
    "pi_sigma_us = 0.05\n",
    "\n",
    "config = {\"q1_ch\": 0,  # --Fixed\n",
    "          \"q2_ch\": 2,\n",
    "          \"q1_ro_ch\": 0,\n",
    "          \"q2_ro_ch\": 1,\n",
    "          \"ro_chs\": [0,1],\n",
    "          \"reps\": 1,  # --Fixed\n",
    "          \"relax_delay\": 1.0,  # --us\n",
    "          \"res_phase\": 0,  # --degrees\n",
    "          \"pulse_style\": \"arb\",  # --Fixed\n",
    "          \"pi_sigma\": soc.us2cycles(pi_sigma_us,gen_ch=2),\n",
    "          \"readout_length\": soc.us2cycles(1,ro_ch=0),  # [Clock ticks]\n",
    "          \"pi_gain\": 30000,  # [DAC units]\n",
    "          \"pi_2_gain\": 15000,\n",
    "          \"q1_pulse_freq\": q1_pulse_freq,  # [MHz]\n",
    "          \"q2_pulse_freq\": q2_pulse_freq,  # [MHz]\n",
    "          \"q1_read_freq\": q1_read_freq,\n",
    "          \"q2_read_freq\": q2_read_freq,\n",
    "          \"adc_trig_offset\": soc.us2cycles(0.52,ro_ch=0),  # [Clock ticks]\n",
    "          \"soft_avgs\": 1,\n",
    "          \"expts\": 1\n",
    "          }\n",
    "\n",
    "\n",
    "config[\"gate_set\"] = generate_2qgateset(config)\n",
    "\n",
    "config['gate_seq'] = [{'Q1': 'X', 'Q2': 'X'}, {'Q1': 'X', 'Q2': 'X'}, {'Q1': 'X', 'Q2': 'X'} ]\n",
    "\n",
    "print(config['gate_seq'])"
   ]
  },
  {
   "cell_type": "code",
   "execution_count": null,
   "metadata": {},
   "outputs": [],
   "source": [
    "prog = PulseSequence(soccfg, config)\n",
    "# print(prog)\n",
    "iq_lists = []\n",
    "# print(self.cfg)\n",
    "soc.reset_gens()  # clear any DC or periodic values on generators\n",
    "iq_list = prog.acquire_decimated(soc, load_pulses=True, progress=False, debug=False)\n",
    "iq_lists.append(iq_list)"
   ]
  },
  {
   "cell_type": "code",
   "execution_count": null,
   "metadata": {},
   "outputs": [],
   "source": [
    "plot_2q(iq_lists)"
   ]
  },
  {
   "cell_type": "markdown",
   "metadata": {},
   "source": [
    "## The qubit drive pulse phase sets the axis of rotation on the Bloch sphere.\n",
    "\n",
    "* A X pulse rotates the qubit 180 degrees about the X axis of its Bloch sphere.\n",
    "* A Y pulse rotates the qubit 180 degrees about the Y axis of its Bloch sphere.\n",
    "* See and play around with this using the Quirk circuit simulator here: https://algassert.com/quirk#circuit={%22cols%22:[[%22Y^%C2%BD%22,%22X^%C2%BD%22]]} In this setup, Qubit 1 had a Y/2 gate applied while Qubit 2 had a X/2 gate applied.\n",
    "\n",
    "\n",
    "Lets change the gate sequence to match the Quirk simulation (Y/2,X/2) on the two qubits, and then make the 2nd pulse be (Y,X) on the two qubits, and then finally do a 3rd pulse of (X,X) on the two qubits.\n",
    "\n",
    "Notice how the phase of qubit 1 flips between I and Q when it goes from Y to X (the 2nd pulse to the 3rd pulse)."
   ]
  },
  {
   "cell_type": "code",
   "execution_count": null,
   "metadata": {},
   "outputs": [],
   "source": [
    "q1_pulse_freq = 2000 \n",
    "q1_read_freq = 2000\n",
    "q2_pulse_freq = 2100 \n",
    "q2_read_freq = 2100\n",
    "pi_sigma_us = 0.05\n",
    "\n",
    "config = {\"q1_ch\": 0,  # --Fixed\n",
    "          \"q2_ch\": 2,\n",
    "          \"q1_ro_ch\": 0,\n",
    "          \"q2_ro_ch\": 1,\n",
    "          \"ro_chs\": [0,1],\n",
    "          \"reps\": 1,  # --Fixed\n",
    "          \"relax_delay\": 1.0,  # --us\n",
    "          \"res_phase\": 0,  # --degrees\n",
    "          \"pulse_style\": \"arb\",  # --Fixed\n",
    "          \"pi_sigma\": soc.us2cycles(pi_sigma_us,gen_ch=2),\n",
    "          \"readout_length\": soc.us2cycles(1,ro_ch=0),  # [Clock ticks]\n",
    "          \"pi_gain\": 30000,  # [DAC units]\n",
    "          \"pi_2_gain\": 15000,\n",
    "          \"q1_pulse_freq\": q1_pulse_freq,  # [MHz]\n",
    "          \"q2_pulse_freq\": q2_pulse_freq,  # [MHz]\n",
    "          \"q1_read_freq\": q1_read_freq,\n",
    "          \"q2_read_freq\": q2_read_freq,\n",
    "          \"adc_trig_offset\": soc.us2cycles(0.52,ro_ch=0),  # [Clock ticks]\n",
    "          \"soft_avgs\": 1,\n",
    "          \"expts\": 1\n",
    "          }\n",
    "\n",
    "config[\"gate_set\"] = generate_2qgateset(config)\n",
    "\n",
    "### We change this!\n",
    "config['gate_seq'] = [{'Q1': 'Y/2', 'Q2': 'X/2'}, {'Q1': 'Y', 'Q2': 'X'}, {'Q1': 'X', 'Q2': 'X'} ]\n",
    "\n",
    "print(config['gate_seq'])"
   ]
  },
  {
   "cell_type": "code",
   "execution_count": null,
   "metadata": {},
   "outputs": [],
   "source": [
    "prog = PulseSequence(soccfg, config)\n",
    "# print(prog)\n",
    "iq_lists = []\n",
    "# print(self.cfg)\n",
    "soc.reset_gens()  # clear any DC or periodic values on generators\n",
    "iq_list = prog.acquire_decimated(soc, load_pulses=True, progress=False, debug=False)\n",
    "iq_lists.append(iq_list)"
   ]
  },
  {
   "cell_type": "code",
   "execution_count": null,
   "metadata": {
    "scrolled": true
   },
   "outputs": [],
   "source": [
    "plot_2q(iq_lists)"
   ]
  },
  {
   "cell_type": "markdown",
   "metadata": {},
   "source": [
    "## The qubit drive pulse amplitude sets the angular velocity on the Bloch sphere. How much will the qubit rotate on the Bloch sphere during the pulse?\n",
    "\n",
    "A X/2 (or Y/2) gate it will rotate the qubit by 90 degrees around its Bloch sphere. A X (or Y) gate will rotate the qubit by 180 degrees around its Bloch sphere.\n",
    "\n",
    "Lets change the gate sequence to do some X and X/2, Y and Y/2 gates on the qubits. \n",
    "\n",
    "See the Quirk circuit equivalent https://algassert.com/quirk#circuit={%22cols%22:[[%22Y^%C2%BD%22,%22X^%C2%BD%22],[%22Y%22,%22X%22],[%22X%22,%22X%22],[%22Y^-%C2%BD%22,%22X^%C2%BD%22],[1,%22X^%C2%BD%22],[%22X%22,%22X^-%C2%BD%22]]} to see where the qubits end up on the Bloch sphere! \n",
    "\n",
    "Notice the difference between a Y/2 and -Y/2 (or X/2 and -X/2) gate. Notice what the I gate does (nothing! Its is represented by the identity matrix)."
   ]
  },
  {
   "cell_type": "code",
   "execution_count": null,
   "metadata": {},
   "outputs": [],
   "source": [
    "q1_pulse_freq = 2000 \n",
    "q1_read_freq = 2000\n",
    "q2_pulse_freq = 2100 \n",
    "q2_read_freq = 2100\n",
    "pi_sigma_us = 0.03\n",
    "\n",
    "config = {\"q1_ch\": 0,  # --Fixed\n",
    "          \"q2_ch\": 2,\n",
    "          \"q1_ro_ch\": 0,\n",
    "          \"q2_ro_ch\": 1,\n",
    "          \"ro_chs\": [0,1],\n",
    "          \"reps\": 1,  # --Fixed\n",
    "          \"relax_delay\": 1.0,  # --us\n",
    "          \"res_phase\": 0,  # --degrees\n",
    "          \"pulse_style\": \"arb\",  # --Fixed\n",
    "          \"pi_sigma\": soc.us2cycles(pi_sigma_us,gen_ch=2),\n",
    "          \"readout_length\": soc.us2cycles(1,ro_ch=0),  # [Clock ticks]\n",
    "          \"pi_gain\": 30000,  # [DAC units]\n",
    "          \"pi_2_gain\": 15000,\n",
    "          \"q1_pulse_freq\": q1_pulse_freq,  # [MHz]\n",
    "          \"q2_pulse_freq\": q2_pulse_freq,  # [MHz]\n",
    "          \"q1_read_freq\": q1_read_freq,\n",
    "          \"q2_read_freq\": q2_read_freq,\n",
    "          \"adc_trig_offset\": soc.us2cycles(0.52,ro_ch=0),  # [Clock ticks]\n",
    "          \"soft_avgs\": 1,\n",
    "          \"expts\": 1\n",
    "          }\n",
    "\n",
    "config[\"gate_set\"] = generate_2qgateset(config)\n",
    "\n",
    "### We change this!\n",
    "config['gate_seq'] = [{'Q1': 'Y/2', 'Q2': 'X/2'}, {'Q1': 'Y', 'Q2': 'X'},\n",
    "                      {'Q1': 'X', 'Q2': 'X'}, {'Q1': '-Y/2', 'Q2': 'X/2'},\n",
    "                      {'Q1': 'I', 'Q2': 'X/2'},{'Q1': 'X', 'Q2': '-X/2'}]\n",
    "\n",
    "print(config['gate_seq'])"
   ]
  },
  {
   "cell_type": "code",
   "execution_count": null,
   "metadata": {},
   "outputs": [],
   "source": [
    "prog = PulseSequence(soccfg, config)\n",
    "# print(prog)\n",
    "iq_lists = []\n",
    "# print(self.cfg)\n",
    "soc.reset_gens()  # clear any DC or periodic values on generators\n",
    "iq_list = prog.acquire_decimated(soc, load_pulses=True, progress=False, debug=False)\n",
    "iq_lists.append(iq_list)"
   ]
  },
  {
   "cell_type": "code",
   "execution_count": null,
   "metadata": {
    "scrolled": true
   },
   "outputs": [],
   "source": [
    "plot_2q(iq_lists)"
   ]
  },
  {
   "cell_type": "markdown",
   "metadata": {},
   "source": [
    "## Multiple X gates and virtual-Z gates\n",
    "\n",
    "If you have multiple X gates, they all need to match the qubit’s reference phase (phase coherence); you need to track the reference phase to define your X, Y, virtual-Z\n",
    "\n",
    "For the Z gates (virtual rotation), we need to advance the phase of all the pulses which follow afterwards.\n",
    "\n",
    "Notice what happens when we applied virtual-Z gates in this example!"
   ]
  },
  {
   "cell_type": "code",
   "execution_count": null,
   "metadata": {},
   "outputs": [],
   "source": [
    "q1_pulse_freq = 2000 \n",
    "q1_read_freq = 2000\n",
    "q2_pulse_freq = 2100 \n",
    "q2_read_freq = 2100\n",
    "pi_sigma_us = 0.03\n",
    "\n",
    "config = {\"q1_ch\": 0,  # --Fixed\n",
    "          \"q2_ch\": 2,\n",
    "          \"q1_ro_ch\": 0,\n",
    "          \"q2_ro_ch\": 1,\n",
    "          \"ro_chs\": [0,1],\n",
    "          \"reps\": 1,  # --Fixed\n",
    "          \"relax_delay\": 1.0,  # --us\n",
    "          \"res_phase\": 0,  # --degrees\n",
    "          \"pulse_style\": \"arb\",  # --Fixed\n",
    "          \"pi_sigma\": soc.us2cycles(pi_sigma_us,gen_ch=2),\n",
    "          \"readout_length\": soc.us2cycles(1,ro_ch=0),  # [Clock ticks]\n",
    "          \"pi_gain\": 30000,  # [DAC units]\n",
    "          \"pi_2_gain\": 15000,\n",
    "          \"q1_pulse_freq\": q1_pulse_freq,  # [MHz]\n",
    "          \"q2_pulse_freq\": q2_pulse_freq,  # [MHz]\n",
    "          \"q1_read_freq\": q1_read_freq,\n",
    "          \"q2_read_freq\": q2_read_freq,\n",
    "          \"adc_trig_offset\": soc.us2cycles(0.52,ro_ch=0),  # [Clock ticks]\n",
    "          \"soft_avgs\": 1,\n",
    "          \"expts\": 1\n",
    "          }\n",
    "\n",
    "config[\"gate_set\"] = generate_2qgateset(config)\n",
    "\n",
    "### We change this!\n",
    "config['gate_seq'] = [{'Q1': 'X', 'Q2': 'X'}, {'Q1': 'Z', 'Q2': 'Z'},\n",
    "                      {'Q1': 'X', 'Q2': 'X'}]\n",
    "\n",
    "print(config['gate_seq'])"
   ]
  },
  {
   "cell_type": "code",
   "execution_count": null,
   "metadata": {},
   "outputs": [],
   "source": [
    "prog = PulseSequence(soccfg, config)\n",
    "# print(prog)\n",
    "iq_lists = []\n",
    "# print(self.cfg)\n",
    "soc.reset_gens()  # clear any DC or periodic values on generators\n",
    "iq_list = prog.acquire_decimated(soc, load_pulses=True, progress=False, debug=False)\n",
    "iq_lists.append(iq_list)"
   ]
  },
  {
   "cell_type": "code",
   "execution_count": null,
   "metadata": {},
   "outputs": [],
   "source": [
    "plot_2q(iq_lists)"
   ]
  },
  {
   "cell_type": "markdown",
   "metadata": {},
   "source": [
    "## Quantum state characterization and qubit gate benchmarking\n",
    "\n",
    "In general you want to do long pulse sequences for quantum state characterization and qubit gate benchmarking experiments, like in this paper, where 2 qubit randomized benchmarking and 2 qubit state and process tomography was done with the QICK: https://journals.aps.org/prxquantum/abstract/10.1103/PRXQuantum.5.020326\n",
    "\n",
    "We are loading the gate sequence from a pickle file this time, where it has been stored ahead of time. The gates are the 16 preparation basis gates for two-qubit process tomography."
   ]
  },
  {
   "cell_type": "code",
   "execution_count": null,
   "metadata": {},
   "outputs": [],
   "source": [
    "q1_pulse_freq = 2000 \n",
    "q1_read_freq = 2000\n",
    "q2_pulse_freq = 2100 \n",
    "q2_read_freq = 2100\n",
    "pi_sigma_us = 0.01\n",
    "\n",
    "config = {\"q1_ch\": 0,  # --Fixed\n",
    "          \"q2_ch\": 2,\n",
    "          \"q1_ro_ch\": 0,\n",
    "          \"q2_ro_ch\": 1,\n",
    "          \"ro_chs\": [0,1],\n",
    "          \"reps\": 1,  # --Fixed\n",
    "          \"relax_delay\": 1.0,  # --us\n",
    "          \"res_phase\": 0,  # --degrees\n",
    "          \"pulse_style\": \"arb\",  # --Fixed\n",
    "          \"pi_sigma\": soc.us2cycles(pi_sigma_us,gen_ch=2),\n",
    "          \"readout_length\": soc.us2cycles(1,ro_ch=0),  # [Clock ticks]\n",
    "          \"pi_gain\": 30000,  # [DAC units]\n",
    "          \"pi_2_gain\": 15000,\n",
    "          \"q1_pulse_freq\": q1_pulse_freq,  # [MHz]\n",
    "          \"q2_pulse_freq\": q2_pulse_freq,  # [MHz]\n",
    "          \"q1_read_freq\": q1_read_freq,\n",
    "          \"q2_read_freq\": q2_read_freq,\n",
    "          \"adc_trig_offset\": soc.us2cycles(0.52,ro_ch=0),  # [Clock ticks]\n",
    "          \"soft_avgs\": 1,\n",
    "          \"expts\": 1\n",
    "          }\n",
    "\n",
    "config[\"gate_set\"] = generate_2qgateset(config)\n",
    "\n",
    "### We change this!\n",
    "with open('prep_moments.pkl', 'rb') as f:\n",
    "    prep_moments = pickle.load(f)\n",
    "\n",
    "config['gate_seq'] = prep_moments\n",
    "print(config['gate_seq'])"
   ]
  },
  {
   "cell_type": "code",
   "execution_count": null,
   "metadata": {},
   "outputs": [],
   "source": [
    "prog = PulseSequence(soccfg, config)\n",
    "# print(prog)\n",
    "iq_lists = []\n",
    "# print(self.cfg)\n",
    "soc.reset_gens()  # clear any DC or periodic values on generators\n",
    "iq_list = prog.acquire_decimated(soc, load_pulses=True, progress=False, debug=False)\n",
    "iq_lists.append(iq_list)"
   ]
  },
  {
   "cell_type": "code",
   "execution_count": null,
   "metadata": {},
   "outputs": [],
   "source": [
    "plot_2q(iq_lists)"
   ]
  },
  {
   "cell_type": "code",
   "execution_count": null,
   "metadata": {},
   "outputs": [],
   "source": []
  }
 ],
 "metadata": {
  "kernelspec": {
   "display_name": "Python 3 (ipykernel)",
   "language": "python",
   "name": "python3"
  },
  "language_info": {
   "codemirror_mode": {
    "name": "ipython",
    "version": 3
   },
   "file_extension": ".py",
   "mimetype": "text/x-python",
   "name": "python",
   "nbconvert_exporter": "python",
   "pygments_lexer": "ipython3",
   "version": "3.10.4"
  }
 },
 "nbformat": 4,
 "nbformat_minor": 4
}
